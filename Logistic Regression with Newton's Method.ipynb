{
 "cells": [
  {
   "cell_type": "markdown",
   "metadata": {},
   "source": [
    "# Logistic Regression with Newton's Method"
   ]
  },
  {
   "cell_type": "markdown",
   "metadata": {},
   "source": [
    "### Written by: Dylan Hematillake; What is Logistic Regression?"
   ]
  },
  {
   "cell_type": "markdown",
   "metadata": {},
   "source": [
    "Logistic regression is named after the logistic function. In linear regression, the dependent variable is continuous. It can have any one of the infinite number of possible values. Logistic Regression is when the response variable is categorical in nature, a discrete outcome.\n",
    "\n",
    "The logistic function is also the sigmoid function as it is a S-shaped curve that takes a real value and maps it to a value between 0 and 1 but never exactly 0 and 1.\n",
    "\n",
    "$$\\sigma = \\frac{1}{1+e^{-x}}$$"
   ]
  },
  {
   "cell_type": "code",
   "execution_count": 65,
   "metadata": {},
   "outputs": [
    {
     "data": {
      "image/png": "[encoded data removed]",
      "text/plain": [
       "<matplotlib.figure.Figure at 0x1f60a7e37f0>"
      ]
     },
     "metadata": {},
     "output_type": "display_data"
    }
   ],
   "source": [
    "import numpy as np\n",
    "import matplotlib.pyplot as plt\n",
    "import pandas as pd\n",
    "from patsy import dmatrices\n",
    "import warnings\n",
    "\n",
    "def sigmoid(x):\n",
    "    response = 1/(1+np.exp(-x))\n",
    "    return response\n",
    "\n",
    "x = np.linspace(-10,10,num=100)\n",
    "plt.plot(x,sigmoid(x),color='purple')\n",
    "plt.show()"
   ]
  },
  {
   "cell_type": "markdown",
   "metadata": {},
   "source": [
    "The central premise of Logistic Regression is the assumption that your input space can be separated into two nice regions for each class by a linear boundary. The data must be seperable in n dimensions.\n",
    "\n",
    "So, given a function:\n",
    "\n",
    "$$\\beta_o + \\beta_1 x_1+\\beta_2 x_2$$\n",
    "\n",
    "To take a function that goes from $[-\\infty,\\infty]$ to a probability that goes from $[0,1]$ we use the odds function.\n",
    "\n",
    "Let $P(X)$ denote the probability of an event $X$ occuring. The odds ratio, $OR(X)$ is defined as:\n",
    "\n",
    "$$\\frac{P(X)}{1-P(X)}$$\n",
    "\n",
    "We can then define a general model:\n",
    "\n",
    "$$logit(p_i)=log(\\frac{p_i}{1-p_i})=\\beta_o+\\sum_{j=1}^J \\beta_j x_{ji}$$\n",
    "\n",
    "Where $p_i$ is the probability of event i, $\\beta_o$ is the intercept, \\beta_j are the coefficients (factors) and $x_{ji}$ are the variables of the factors.\n",
    "\n",
    "Odds are used since the equation gives can give the largest range of coefficients such that the output is $[0,1]$.\n",
    "\n",
    "The above boundary function still ranges from $[-\\infty,\\infty]$. So, we take the log of $OR(X)$, called the log-odds function as $log(OR(X))$ goes from $[-\\infty,\\infty]$ as $OR(X)$ goes from $[0,\\infty]$\n",
    "\n",
    "The impact of logistic regression is that we can no longer understand the prediction as a linear combination of the inputs as we can with linear regression. \n",
    "\n",
    "To calculate the boundary function, we calculate the Maximum Likelihood Estimation, MLE. In deep learning, MLE is backpropagation, defined as:\n",
    "$$L(\\theta(x))=f(X(\\theta))$$\n",
    "\n",
    "Newton's method can be used to find the minima and maxima."
   ]
  },
  {
   "cell_type": "markdown",
   "metadata": {},
   "source": [
    "### Why use Newton's Method for Optimization?"
   ]
  },
  {
   "cell_type": "markdown",
   "metadata": {},
   "source": [
    "-  Newton's method converges faster than gradient descent when maximizing logistic regression log likelihood\n",
    "\n",
    "-  Each iteration is more expensive than gradient descent because of calculating the inverse Hessian, defined as:\n",
    "\n",
    "$${\\mathbf  H}={\\begin{bmatrix}{\\dfrac  {\\partial ^{2}f}{\\partial x_{1}^{2}}}&{\\dfrac  {\\partial ^{2}f}{\\partial x_{1}\\,\\partial x_{2}}}&\\cdots &{\\dfrac  {\\partial ^{2}f}{\\partial x_{1}\\,\\partial x_{n}}}\\\\[2.2ex]{\\dfrac  {\\partial ^{2}f}{\\partial x_{2}\\,\\partial x_{1}}}&{\\dfrac  {\\partial ^{2}f}{\\partial x_{2}^{2}}}&\\cdots &{\\dfrac  {\\partial ^{2}f}{\\partial x_{2}\\,\\partial x_{n}}}\\\\[2.2ex]\\vdots &\\vdots &\\ddots &\\vdots \\\\[2.2ex]{\\dfrac  {\\partial ^{2}f}{\\partial x_{n}\\,\\partial x_{1}}}&{\\dfrac  {\\partial ^{2}f}{\\partial x_{n}\\,\\partial x_{2}}}&\\cdots &{\\dfrac  {\\partial ^{2}f}{\\partial x_{n}^{2}}}\\end{bmatrix}}.$$\n",
    "\n",
    "- As long as the data points are not very large, Newton's method is preferred for MLE"
   ]
  },
  {
   "cell_type": "markdown",
   "metadata": {},
   "source": [
    "Regularization must be done as well, and is important in machine learning to prevent overfitting. A regularization term prevents coefficients to fit so perfectly as to overfit. L1 and L2 regularization vary be the method of norm they employ.\n",
    "\n",
    "L1 Regularization of Least Squares:\n",
    "$$\\textbf{w*}=arg\\min{\\textbf{w}}\\sum_j \\big(t(\\textbf{x}_j-\\sum_i w_i h_i(\\textbf{x}_j)\\big)^2 + \\lambda\\sum_{i=1}^k|w_i|$$\n",
    "\n",
    "L2 Regularization of Least Squares:\n",
    "$$\\textbf{w*}=arg\\min{\\textbf{w}}\\sum_j \\big(t(\\textbf{x}_j-\\sum_i w_i h_i(\\textbf{x}_j)\\big)^2 + \\lambda\\sum_{i=1}^k w_i^2$$\n",
    "\n",
    "- L2 regularization is computationally efficient due to having analytic solutions while L1 is inefficient on non-sparse cases\n",
    "- L2 regularization has non-sparse outputs while L1 has sparse outputs\n",
    "- L2 regularization has no feature selection while L1 has built-in feature selection"
   ]
  },
  {
   "cell_type": "code",
   "execution_count": 66,
   "metadata": {},
   "outputs": [],
   "source": [
    "#create play data\n",
    "\n",
    "#set seed for reproducability \n",
    "np.random.seed(0)\n",
    "\n",
    "#Define hyperparameters (model parameters)\n",
    "#when to stop\n",
    "tol = 1e-8\n",
    "lam = None #12 regularization\n",
    "max_iters=20\n",
    "r = 0.95 #covariance between x and y, measure how two variables move together\n",
    "n = 1000 #umber of observations in dataset to generate\n",
    "sigma = 1 #variance of noise - data spead\n",
    "\n",
    "#model settings\n",
    "beta_x,beta_z,beta_v = -4,.9,1 #true beta coeff\n",
    "var_x,var_z,var_v = 1, 1, 4 #variance of inpus\n",
    "\n",
    "#model specification you want to fit\n",
    "formula = 'y ~ x + z + v + np.exp(x) + I(v**2 + z)'"
   ]
  },
  {
   "cell_type": "code",
   "execution_count": 67,
   "metadata": {},
   "outputs": [
    {
     "data": {
      "text/html": [
       "<div>\n",
       "<style scoped>\n",
       "    .dataframe tbody tr th:only-of-type {\n",
       "        vertical-align: middle;\n",
       "    }\n",
       "\n",
       "    .dataframe tbody tr th {\n",
       "        vertical-align: top;\n",
       "    }\n",
       "\n",
       "    .dataframe thead th {\n",
       "        text-align: right;\n",
       "    }\n",
       "</style>\n",
       "<table border=\"1\" class=\"dataframe\">\n",
       "  <thead>\n",
       "    <tr style=\"text-align: right;\">\n",
       "      <th></th>\n",
       "      <th>Intercept</th>\n",
       "      <th>x</th>\n",
       "      <th>z</th>\n",
       "      <th>v</th>\n",
       "      <th>np.exp(x)</th>\n",
       "      <th>I(v ** 2 + z)</th>\n",
       "    </tr>\n",
       "  </thead>\n",
       "  <tbody>\n",
       "    <tr>\n",
       "      <th>0</th>\n",
       "      <td>1.0</td>\n",
       "      <td>-1.805133</td>\n",
       "      <td>-1.678592</td>\n",
       "      <td>-230.536312</td>\n",
       "      <td>0.164453</td>\n",
       "      <td>53145.312449</td>\n",
       "    </tr>\n",
       "    <tr>\n",
       "      <th>1</th>\n",
       "      <td>1.0</td>\n",
       "      <td>-1.320743</td>\n",
       "      <td>-0.612110</td>\n",
       "      <td>-321.120883</td>\n",
       "      <td>0.266937</td>\n",
       "      <td>103118.009125</td>\n",
       "    </tr>\n",
       "    <tr>\n",
       "      <th>2</th>\n",
       "      <td>1.0</td>\n",
       "      <td>-1.689545</td>\n",
       "      <td>-1.998587</td>\n",
       "      <td>0.006285</td>\n",
       "      <td>0.184604</td>\n",
       "      <td>-1.998547</td>\n",
       "    </tr>\n",
       "    <tr>\n",
       "      <th>3</th>\n",
       "      <td>1.0</td>\n",
       "      <td>-0.914205</td>\n",
       "      <td>-0.962069</td>\n",
       "      <td>-56.335960</td>\n",
       "      <td>0.400835</td>\n",
       "      <td>3172.778273</td>\n",
       "    </tr>\n",
       "    <tr>\n",
       "      <th>4</th>\n",
       "      <td>1.0</td>\n",
       "      <td>0.036999</td>\n",
       "      <td>0.166842</td>\n",
       "      <td>-0.033775</td>\n",
       "      <td>1.037692</td>\n",
       "      <td>0.167983</td>\n",
       "    </tr>\n",
       "  </tbody>\n",
       "</table>\n",
       "</div>"
      ],
      "text/plain": [
       "   Intercept         x         z           v  np.exp(x)  I(v ** 2 + z)\n",
       "0        1.0 -1.805133 -1.678592 -230.536312   0.164453   53145.312449\n",
       "1        1.0 -1.320743 -0.612110 -321.120883   0.266937  103118.009125\n",
       "2        1.0 -1.689545 -1.998587    0.006285   0.184604      -1.998547\n",
       "3        1.0 -0.914205 -0.962069  -56.335960   0.400835    3172.778273\n",
       "4        1.0  0.036999  0.166842   -0.033775   1.037692       0.167983"
      ]
     },
     "execution_count": 67,
     "metadata": {},
     "output_type": "execute_result"
    }
   ],
   "source": [
    "#generate and organize data\n",
    "#multvariate normal is a generalized normal distribution to higher dimensions\n",
    "#stochastic process (random). Define 3 random variables where x,z are related closely\n",
    "warnings.filterwarnings(\"ignore\")\n",
    "\n",
    "x,z=np.random.multivariate_normal([0,0],[[var_x,r],[r,var_z]],n).T\n",
    "v=np.random.normal(0,var_v,n)**3\n",
    "A = pd.DataFrame({'x' : x,'z': z,'v' : v})\n",
    "A['Log_Odds']=sigmoid(A[['x','z','v']].dot([beta_x,beta_z,beta_v])+sigma*np.random.normal(0,1,n))\n",
    "\n",
    "#binomial random variable is the number of successes x in n repeated trails of a binomial experiment\n",
    "A['y'] = [np.random.binomial(1,p) for p in A.Log_Odds]\n",
    "\n",
    "y, X= dmatrices(formula,A,return_type='dataframe')\n",
    "\n",
    "X.head()"
   ]
  },
  {
   "cell_type": "code",
   "execution_count": 68,
   "metadata": {},
   "outputs": [],
   "source": [
    "#Algorithm setup\n",
    "\n",
    "def catch_singularity(f):\n",
    "    def silencer(*args,**kwargs):\n",
    "        try:\n",
    "            return f(*args,**kwargs)\n",
    "        except np.linalg.LinAlgError:\n",
    "            warnings.warn('Algorithm terminated - singular Hessian')\n",
    "            return args[0]\n",
    "    return silencer"
   ]
  },
  {
   "cell_type": "markdown",
   "metadata": {},
   "source": [
    "### Single Newton Step"
   ]
  },
  {
   "cell_type": "markdown",
   "metadata": {},
   "source": [
    "For Newton's method, a function $f(\\beta)$ iteratively computs the following estimate:\n",
    "\n",
    "$$\\beta^+ = \\beta - Hf(\\beta)^{-1}\\nabla f(\\beta)$$\n",
    "\n",
    "The Hessian of the log-likelihood for logistic regresion is given by:\n",
    "\n",
    "$$Hf(\\beta)=-X^TWX$$\n",
    "\n",
    "With the gradient:\n",
    "$$\\nabla f(\\beta)=X^T(y-p)$$\n",
    "Where:\n",
    "$$W := diag(p(1-p))$$"
   ]
  },
  {
   "cell_type": "markdown",
   "metadata": {},
   "source": [
    "### Relation to Iteratively Reweighted Least Squares (IRLS)"
   ]
  },
  {
   "cell_type": "markdown",
   "metadata": {},
   "source": [
    "For logistic regression, this step is equivalent to computing a weighted least squares estimator at each iteration where the method of least squares for estimating parameters by minimizing squared discrepancies between observed data and their expected values:\n",
    "\n",
    "$$\\beta^+=arg\\min_\\beta (z-X\\beta)^TW(z-X\\beta)$$\n",
    "\n",
    "With $W$ as before and the adjusted response $z$ given by:\n",
    "\n",
    "$$z := X\\beta+W^{-1}(y-p)$$"
   ]
  },
  {
   "cell_type": "code",
   "execution_count": 69,
   "metadata": {},
   "outputs": [],
   "source": [
    "@catch_singularity\n",
    "\n",
    "def newton_step(curr,X,lam=None):\n",
    "    #One naive step\n",
    "    p=np.array(sigmoid(X.dot(curr[:,0])), ndmin=2).T\n",
    "    W = np.diag((p*(1-p))[:,0])\n",
    "    #hessian\n",
    "    hessian = X.T.dot(W).dot(X)\n",
    "    #gradient\n",
    "    grad=X.T.dot(y-p)\n",
    "    \n",
    "    #regularization\n",
    "    if lam:\n",
    "        #return least-squares solution to a linear matrix eq. avoid calculating hessian to reduce computational expense\n",
    "        step,*_=np.linalg.lstsq(hessian+lam*np.eye(curr,shape[0]),grad)\n",
    "    else:\n",
    "        step,*_=np.linalg.lstsq(hessian,grad)\n",
    "        \n",
    "    #update\n",
    "    beta=curr+step\n",
    "    \n",
    "    return beta"
   ]
  },
  {
   "cell_type": "code",
   "execution_count": 70,
   "metadata": {},
   "outputs": [],
   "source": [
    "def convergence(beta_old,beta_new,tol,iters):\n",
    "    coef_change=np.abs(beta_old-beta_new)\n",
    "    \n",
    "    #if change hasn't reached threshold, keep training\n",
    "    return not (np.any(coef_change>tol) & (iters < max_iters))"
   ]
  },
  {
   "cell_type": "markdown",
   "metadata": {},
   "source": [
    "### Numerical Example\n",
    "#### Standard Newton with Coefficient Convergence"
   ]
  },
  {
   "cell_type": "code",
   "execution_count": 71,
   "metadata": {
    "scrolled": true
   },
   "outputs": [
    {
     "name": "stdout",
     "output_type": "stream",
     "text": [
      "Iterations : 18\n",
      "Beta: [[ 26321162.0240595 ]\n",
      " [ -6345604.88747682]\n",
      " [-11270766.29545255]\n",
      " [ -9577280.68635647]\n",
      " [ 20672279.24612887]\n",
      " [ -7783646.80695781]]\n"
     ]
    }
   ],
   "source": [
    "#intial conditions\n",
    "\n",
    "beta_old, beta=np.ones((len(X.columns),1)),np.zeros((len(X.columns),1))\n",
    "\n",
    "#iterations\n",
    "iters = 0\n",
    "converged= False\n",
    "\n",
    "while not converged:\n",
    "    beta_old = beta\n",
    "    beta = newton_step(beta,X,lam=lam)\n",
    "    iters += 1\n",
    "    converged = convergence(beta_old,beta,tol,iters)\n",
    "\n",
    "print('Iterations : {}'.format(iters))\n",
    "print('Beta: {}'.format(beta))"
   ]
  },
  {
   "cell_type": "code",
   "execution_count": null,
   "metadata": {},
   "outputs": [],
   "source": []
  }
 ],
 "metadata": {
  "kernelspec": {
   "display_name": "Python 3",
   "language": "python",
   "name": "python3"
  },
  "language_info": {
   "codemirror_mode": {
    "name": "ipython",
    "version": 3
   },
   "file_extension": ".py",
   "mimetype": "text/x-python",
   "name": "python",
   "nbconvert_exporter": "python",
   "pygments_lexer": "ipython3",
   "version": "3.6.4"
  }
 },
 "nbformat": 4,
 "nbformat_minor": 2
}
