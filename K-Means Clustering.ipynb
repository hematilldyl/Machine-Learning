){
 "cells": [
  {
   "cell_type": "markdown",
   "metadata": {},
   "source": [
    "## Performing K-Means Clustering"
   ]
  },
  {
   "cell_type": "markdown",
   "metadata": {},
   "source": [
    "### What is K-Means Clustering?"
   ]
  },
  {
   "cell_type": "markdown",
   "metadata": {},
   "source": [
    "- The goal of machine learning is to optimize an objective function\n",
    "- There are two optimization categories, first and second order\n",
    "- Both compute a loss function by minmizing the difference between a real label to a predicted label value through convex optimization (i.e, gradient descent, Newton's method)\n",
    "\n",
    "What do we do when there are no labels?\n",
    "\n",
    "#### Unsupervised Learning\n",
    "\n",
    "Supervised learning takes discrete for classification or categorization, or continuous for regression. In unsupervised we get clustering of discrete and continuous dimensionality reduction\n",
    "\n",
    "Supervised learning is more accurate, but requires labeled data and human-in-the-loop, while unsupervised is less accurate, but does not require labeled data and minimal human effort\n",
    "\n",
    "Clustering - A typical and well-known type of unsupervised learning. Clustering algorithms try to find natrual groupings in data, similar data points are considered in the same group.\n",
    "\n",
    "K-Means clustering is a simple clustering algorithm, that given a value of k, it tries to build k clusters from the samples in the dataset:\n",
    "\n",
    "For a set of $N$ samples $X$ into $K$ disjoint clusters $C$ each described by a mean $\\mu_j$ of the samples in the clusters, the algorithm aims to choose centroids to minimize the inertia:\n",
    "\n",
    "$$\\sum_{i=0}^n \\min_{\\mu \\in C}(\\parallel x_j-\\mu_i \\parallel^2)$$\n",
    "\n",
    "#### How does it Work?\n",
    "\n",
    "Given k, the K-Means algorithm is as follows\n",
    "\n",
    "1. Randomly choose k data points (seeds) to be the initial centroids\n",
    "2. Assign each data point to the closest centroid\n",
    "3. Re-compute the centroids using the current cluster memberships\n",
    "4. If a convergence criteria is not met, repeat 2-3\n",
    "\n",
    "### How to Determine the Best Value of K?\n",
    "\n",
    "If you know how many classes you want, us that K. If not, use the Elbow Method"
   ]
  },
  {
   "cell_type": "code",
   "execution_count": 49,
   "metadata": {
    "scrolled": true
   },
   "outputs": [
    {
     "data": {
      "image/png": "[encoded data removed]",
      "text/plain": [
       "<matplotlib.figure.Figure at 0x21ca868ce10>"
      ]
     },
     "metadata": {},
     "output_type": "display_data"
    }
   ],
   "source": [
    "from sklearn.cluster import KMeans\n",
    "from sklearn.datasets import make_blobs\n",
    "from sklearn.preprocessing import StandardScaler\n",
    "import matplotlib.pyplot as plt\n",
    "import numpy as np\n",
    "import warnings\n",
    "\n",
    "N = 1500\n",
    "rs=170\n",
    "X,y = make_blobs(n_samples=N,random_state=rs)\n",
    "\n",
    "scaler = StandardScaler()\n",
    "X_scaled = scaler.fit_transform(X)\n",
    "\n",
    "errors = []\n",
    "for k in range(1,10):\n",
    "    yhat = KMeans(n_clusters=k).fit(X_scaled)\n",
    "    yhat.fit(X_scaled)\n",
    "    errors.append(yhat.inertia_)\n",
    "\n",
    "plt.plot(errors,marker='o')\n",
    "plt.xlabel('Number of Clusters')\n",
    "plt.ylabel('Centroid Error')\n",
    "plt.show()"
   ]
  },
  {
   "cell_type": "markdown",
   "metadata": {},
   "source": [
    "### When to Use it?\n",
    "\n",
    "- The data is numeric as it does not work with categorical numbers\n",
    "- You don't have labels to the data\n",
    "- K-means is the simplest to implement and run. Choose k and run it a number of times\n",
    "- K-means is best when you have multivariate data. Will work with 1D data but not as clever\n",
    "- Useful when you know how many clusters exist in the space\n",
    "\n",
    "### Implementing\n",
    "\n",
    "Given:\n",
    "\n",
    "- K: the number of clusters requires\n",
    "- $\\epsilon$ : the minimum error to be used in the stop condition\n",
    "- Distance: the distance method\n",
    "- The centroids\n",
    "- The evolution history of centroids\n",
    "- The membership vector of each instance with its respective centroid"
   ]
  },
  {
   "cell_type": "code",
   "execution_count": 50,
   "metadata": {},
   "outputs": [],
   "source": [
    "def kmeans(k,dataset,epsilon=0):\n",
    "    history_centroids = []\n",
    "    num_instances,num_features = dataset.shape\n",
    "    #define k centroids\n",
    "    prototypes = dataset[np.random.randint(0,num_instances-1,size=k)]\n",
    "    history_centroids.append(prototypes)\n",
    "    #keep track of centroid per iter\n",
    "    prototypes_old=np.zeros(prototypes.shape)\n",
    "    #store clusters\n",
    "    belongs_to=np.zeros((num_instances,1))\n",
    "    norm=np.linalg.norm(prototypes-prototypes_old)\n",
    "    iters=0\n",
    "    \n",
    "    while norm > epsilon:\n",
    "        iters+=1\n",
    "        norm=np.linalg.norm(prototypes-prototypes_old)\n",
    "        #for each instance in df\n",
    "        for index_instance, instance in enumerate(dataset):\n",
    "            #define distance vector of size k\n",
    "            dist_vector = np.zeros((k,1))\n",
    "            #for each centroid\n",
    "            for index_prototype, prototype in enumerate(prototypes):\n",
    "                #computer distance between each datapoint, x, and each centroid\n",
    "                dist_vector[index_prototype] = np.linalg.norm(prototypes-instance)\n",
    "            #find smallest distance and assign to a cluster\n",
    "            belongs_to[index_instance,0]=np.argmin(dist_vector)\n",
    "        tmp_prototypes = np.zeros((k,num_features))\n",
    "        \n",
    "        #for each custer of number k\n",
    "        for index in range(len(prototypes)):\n",
    "            #get all points in a cluster\n",
    "            instances_close=[i for i in range(len(belongs_to)) if belongs_to[i]==index]\n",
    "            #find the mean of those points, this is our new centroid\n",
    "            prototype = np.mean(dataset[instances_close], axis=0)\n",
    "            #add our new centroid to our new temporary list\n",
    "            tmp_prototypes[index, :] = prototype\n",
    "        \n",
    "        #set the new list to the current list\n",
    "        prototypes = tmp_prototypes\n",
    "        \n",
    "        #add our calculated centroids to our history for plotting\n",
    "        history_centroids.append(tmp_prototypes)\n",
    "\n",
    "    #return calculated centroids, history of them all, and assignments for which cluster each datapoint belongs to\n",
    "    return prototypes, history_centroids, belongs_to\n",
    "        "
   ]
  },
  {
   "cell_type": "code",
   "execution_count": 51,
   "metadata": {},
   "outputs": [],
   "source": [
    "def plot(dataset,history_centroids,belongs_to):\n",
    "    colors=['r','g']\n",
    "    \n",
    "    fig, ax = plt.subplots()\n",
    "\n",
    "    for index in range(dataset.shape[0]):\n",
    "\n",
    "        instances_close = [i for i in range(len(belongs_to)) if belongs_to[i] == index]\n",
    "        for instance_index in instances_close:\n",
    "            ax.plot(dataset[instance_index][0], dataset[instance_index][1], (colors[index] + 'o'))\n",
    "\n",
    "    history_points = []\n",
    "\n",
    "    for index, centroids in enumerate(history_centroids):\n",
    "        for inner, item in enumerate(centroids):\n",
    "            if index == 0:\n",
    "                history_points.append(ax.plot(item[0], item[1], 'bo')[0])\n",
    "            else:\n",
    "                history_points[inner].set_data(item[0], item[1])\n",
    "                #print(\"centroids {} {}\".format(index, item))\n",
    "\n",
    "                plt.show()"
   ]
  },
  {
   "cell_type": "code",
   "execution_count": 52,
   "metadata": {},
   "outputs": [
    {
     "data": {
      "image/png": "[encoded data removed]",
      "text/plain": [
       "<matplotlib.figure.Figure at 0x21ca8cd3e48>"
      ]
     },
     "metadata": {},
     "output_type": "display_data"
    }
   ],
   "source": [
    "warnings.filterwarnings(\"ignore\")\n",
    "\n",
    "def run(dataset):\n",
    "    #train the model on the data\n",
    "    centroids, history_centroids, belongs_to = kmeans(2,X)\n",
    "    #plot the results\n",
    "    plot(X, history_centroids, belongs_to)\n",
    "\n",
    "\n",
    "run(X)"
   ]
  }
 ],
 "metadata": {
  "kernelspec": {
   "display_name": "Python 3",
   "language": "python",
   "name": "python3"
  },
  "language_info": {
   "codemirror_mode": {
    "name": "ipython",
    "version": 3
   },
   "file_extension": ".py",
   "mimetype": "text/x-python",
   "name": "python",
   "nbconvert_exporter": "python",
   "pygments_lexer": "ipython3",
   "version": "3.6.4"
  }
 },
 "nbformat": 4,
 "nbformat_minor": 2
}
