{
 "cells": [
  {
   "cell_type": "markdown",
   "metadata": {},
   "source": [
    "# Support Vector Machines "
   ]
  },
  {
   "cell_type": "markdown",
   "metadata": {},
   "source": [
    "- Classification, regression, outlier detection, clustering\n",
    "\n",
    "- Great for <1000 data points\n",
    "\n",
    "- Below will do supervised linear classification"
   ]
  },
  {
   "cell_type": "markdown",
   "metadata": {},
   "source": [
    "The SVM acts to draw a hyperplane between the groups that maximizes the margin between them."
   ]
  },
  {
   "cell_type": "code",
   "execution_count": 29,
   "metadata": {},
   "outputs": [
    {
     "data": {
      "image/png": "[encoded data removed]",
      "text/plain": [
       "<matplotlib.figure.Figure at 0x2853f8de0b8>"
      ]
     },
     "metadata": {},
     "output_type": "display_data"
    }
   ],
   "source": [
    "import numpy as np\n",
    "import matplotlib.pyplot as plt\n",
    "\n",
    "#X,Y,bias\n",
    "X = np.array([[-2,3,-1],\n",
    "             [4,1,-1],\n",
    "             [1,6,-1],\n",
    "             [2,4,-1],\n",
    "             [6,2,-1]])\n",
    "\n",
    "#labels\n",
    "y=np.array([-1,-1,1,1,1])\n",
    "\n",
    "for d, sample in enumerate(X):\n",
    "    if d<2:\n",
    "        plt.scatter(sample[0],sample[1],s=120,marker='_',linewidths=2)\n",
    "    else:\n",
    "        plt.scatter(sample[0],sample[1],s=120,marker='+',linewidths=2)\n",
    "        \n",
    "plt.plot([-2,6],[6,0.5])\n",
    "plt.show()"
   ]
  },
  {
   "cell_type": "markdown",
   "metadata": {},
   "source": [
    "### Hinge Loss Function: "
   ]
  },
  {
   "cell_type": "markdown",
   "metadata": {},
   "source": [
    "$$c(x,y,f(x)=(1-yf(x))_+$$\n",
    "\n",
    "Where $x$ is the sample $y$ is the true label and $f(x)$ is the predicted label. The + denotes that if the function is negative it is 0."
   ]
  },
  {
   "cell_type": "markdown",
   "metadata": {},
   "source": [
    "### Objective Function"
   ]
  },
  {
   "cell_type": "markdown",
   "metadata": {},
   "source": [
    "$$min_w\\lambda \\parallel w \\parallel^2+\\sum\\limits_{i=1}^n (1-y_i\\langle{x_i,w}\\rangle)_+$$\n",
    "\n",
    "The first term is a regularizer and the second is the loss."
   ]
  },
  {
   "cell_type": "markdown",
   "metadata": {},
   "source": [
    "The gradient of the objective function is taken in order to perfrom gradient descent.\n",
    "\n",
    "$$\\frac{\\partial}{\\partial w_k}\\lambda\\parallel w \\parallel^2 = 2\\lambda w_k\\\\\\frac{\\partial}{\\partial w_k}(1-y_i\\langle{x_i,w}\\rangle)_+ = \\left\\{\n",
    "                                                                \\begin{array}{11}\n",
    "                                                    0 & \\quad if y_i\\langle{x_i,w}\\rangle \\geq 1 \\\\\n",
    "                                                    -y_i x_ik & \\quad else \n",
    "                                                    \\end{array}\n",
    "                                                    \\right.\n",
    "$$"
   ]
  },
  {
   "cell_type": "markdown",
   "metadata": {},
   "source": [
    "Each missclassification if a sample will update the weight vector using the gradients, else if classified correctly, update the gradient of the regularizer. "
   ]
  },
  {
   "cell_type": "markdown",
   "metadata": {},
   "source": [
    "Misclassification occurs if:\n",
    "\n",
    "$$y_i\\langle{x_i,w_i}\\rangle < 1$$"
   ]
  },
  {
   "cell_type": "markdown",
   "metadata": {},
   "source": [
    "Update rule for weights when misclassified:\n",
    "\n",
    "$$w=w+\\eta(y_i x_i -2\\lambda w)$$"
   ]
  },
  {
   "cell_type": "markdown",
   "metadata": {},
   "source": [
    "The regularizer, $\\lambda$ is like a tuning knob that gives indication how best to fit the data. If the regularizer is too high, overfit is at risk and vice versa. It controls the trade off between achieving low training error and a low testing error that is the abilit to generalize the classifier to unseen data. Generally, a regularizing parameter of 1/epochs is chosen, as the parameter decreases, epochs increases.\n",
    "\n",
    "The learning rate, $\\eta$ is the step size the algorithm takes on the error curve. If it is too high, the algorithm might overshoot, while if it is too low it might take a long time or never converge"
   ]
  },
  {
   "cell_type": "markdown",
   "metadata": {},
   "source": [
    "If classified correctly:\n",
    "\n",
    "$$w = w+\\eta(-2\\lambda w)$$"
   ]
  },
  {
   "cell_type": "code",
   "execution_count": 30,
   "metadata": {},
   "outputs": [],
   "source": [
    "#Stochastic gradient descent to seperate hyperplanes\n",
    "\n",
    "def svm_sgd_plot(X,Y):\n",
    "    w = np.zeros(len(X[0]))\n",
    "    #learning rate\n",
    "    eta = 1\n",
    "    #iterations\n",
    "    epochs=10000\n",
    "    #missclassifications\n",
    "    errors = []\n",
    "    \n",
    "    #training with gd\n",
    "    for epoch in range(1,epochs):\n",
    "        error = 0\n",
    "        for i, x in enumerate(X):\n",
    "            #missclassification update for weights\n",
    "            if (Y[i]*np.dot(X[i],w))<1:\n",
    "                w = w+eta*((X[i]*Y[i])+(-2*(1/epoch)*w))\n",
    "                error = 1\n",
    "            else:\n",
    "                #correct classification update our weights\n",
    "                w= w+eta *(-2 *(1/epoch)*w)\n",
    "        errors.append(error)\n",
    "    plt.plot(errors,'|')\n",
    "    plt.ylim(0.5,1.5)\n",
    "    plt.axes().set_yticklabels([])\n",
    "    plt.xlabel(\"Epoch\")\n",
    "    plt.ylabel(\"Misclassified\")\n",
    "    \n",
    "    return w\n",
    "            "
   ]
  },
  {
   "cell_type": "code",
   "execution_count": 33,
   "metadata": {},
   "outputs": [
    {
     "data": {
      "image/png": "[encoded data removed]",
      "text/plain": [
       "<matplotlib.figure.Figure at 0x2853f93eac8>"
      ]
     },
     "metadata": {},
     "output_type": "display_data"
    }
   ],
   "source": [
    "import warnings\n",
    "warnings.filterwarnings(\"ignore\")\n",
    "w =svm_sgd_plot(X,y)"
   ]
  },
  {
   "cell_type": "code",
   "execution_count": 32,
   "metadata": {},
   "outputs": [
    {
     "data": {
      "text/plain": [
       "<matplotlib.quiver.Quiver at 0x2853f9ab630>"
      ]
     },
     "execution_count": 32,
     "metadata": {},
     "output_type": "execute_result"
    },
    {
     "data": {
      "image/png": "[encoded data removed]",
      "text/plain": [
       "<matplotlib.figure.Figure at 0x2853f96b588>"
      ]
     },
     "metadata": {},
     "output_type": "display_data"
    }
   ],
   "source": [
    "for d, sample in enumerate(X):\n",
    "    #PLot negatives\n",
    "    if d <2:\n",
    "        plt.scatter(sample[0],sample[1],s=120,marker='_',linewidths=2)\n",
    "    else:\n",
    "        plt.scatter(sample[0],sample[1],s=120,marker='+',linewidths=2)\n",
    "    \n",
    "#Add test samples\n",
    "plt.scatter(2,2,s=120,marker='_',linewidths=2,color='yellow')\n",
    "plt.scatter(4,3,s=120,marker='+',linewidths=2,color='blue')\n",
    "\n",
    "#print hyperplane found by svm_sgd\n",
    "x2=[w[0],w[1],-w[1],w[0]]\n",
    "x3=[w[0],w[1],w[1],-w[0]]\n",
    "\n",
    "x2x3=np.array([x2,x3])\n",
    "Xb,Y,U,V=zip(*x2x3)\n",
    "ax=plt.gca()\n",
    "ax.quiver(Xb,Y,U,V,scale=1,color='blue')"
   ]
  },
  {
   "cell_type": "code",
   "execution_count": null,
   "metadata": {},
   "outputs": [],
   "source": []
  }
 ],
 "metadata": {
  "kernelspec": {
   "display_name": "Python 3",
   "language": "python",
   "name": "python3"
  },
  "language_info": {
   "codemirror_mode": {
    "name": "ipython",
    "version": 3
   },
   "file_extension": ".py",
   "mimetype": "text/x-python",
   "name": "python",
   "nbconvert_exporter": "python",
   "pygments_lexer": "ipython3",
   "version": "3.6.4"
  }
 },
 "nbformat": 4,
 "nbformat_minor": 2
}
